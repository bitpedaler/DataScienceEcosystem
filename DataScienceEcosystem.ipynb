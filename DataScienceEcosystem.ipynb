{
  "metadata": {
    "kernelspec": {
      "name": "python",
      "display_name": "Python (Pyodide)",
      "language": "python"
    },
    "language_info": {
      "codemirror_mode": {
        "name": "python",
        "version": 3
      },
      "file_extension": ".py",
      "mimetype": "text/x-python",
      "name": "python",
      "nbconvert_exporter": "python",
      "pygments_lexer": "ipython3",
      "version": "3.8"
    }
  },
  "nbformat_minor": 5,
  "nbformat": 4,
  "cells": [
    {
      "id": "1405f8cd-8a2f-4023-93d4-42576f91be58",
      "cell_type": "markdown",
      "source": "# Data Science Tools and Ecosystem",
      "metadata": {}
    },
    {
      "id": "dc46daf4-ce8d-4618-ae5a-324e628c754e",
      "cell_type": "markdown",
      "source": "In this notebook, Data Science Tools and Ecosystem are summarized.",
      "metadata": {}
    },
    {
      "id": "322d9bef-3bcf-4c52-b824-d59b342a3b1d",
      "cell_type": "markdown",
      "source": "**Objectives:**\n- GitHub\n- Jupiter Notebooks\n- RStudio\n- Packages for Data Science",
      "metadata": {}
    },
    {
      "id": "81780fda-4905-4755-b5f7-fbe24947a286",
      "cell_type": "markdown",
      "source": "## Author ##\nHannes Suter",
      "metadata": {}
    },
    {
      "id": "49517897-88cf-4f81-9a02-1a95cedba5b7",
      "cell_type": "markdown",
      "source": "Some of the popular languages that Data Scientists use are:\n1. Python\n2. R\n3. C++",
      "metadata": {}
    },
    {
      "id": "0f654545-d6bf-4d0b-9397-6fbb80dc7231",
      "cell_type": "markdown",
      "source": "Some of the commonly used libraries used by Data Scientists include:\n1. NumPy\n2. Pandas\n3. Matplotlib\n4. Scikit-learn\n",
      "metadata": {}
    },
    {
      "id": "7482de0a-9121-4c2b-b863-c1ab223a3e6b",
      "cell_type": "markdown",
      "source": "|Data Science Tools|\n|----|\n|Jupyter Notebooks|\n|RStudio|\n|VS Code|\n",
      "metadata": {}
    },
    {
      "id": "0797bdb4-a6b5-4dfd-9282-ba048d0aa3fa",
      "cell_type": "markdown",
      "source": "### Below are a few examples of evaluating arithmetic expressions in Python.\n\n",
      "metadata": {}
    },
    {
      "id": "ee7cb5af-6508-4131-b58a-dee87fa1409b",
      "cell_type": "code",
      "source": "#This a simple arithmetic expression to mutiply then add integers\n(3*4)+5\n",
      "metadata": {
        "trusted": true
      },
      "outputs": [
        {
          "execution_count": 1,
          "output_type": "execute_result",
          "data": {
            "text/plain": "17"
          },
          "metadata": {}
        }
      ],
      "execution_count": 1
    },
    {
      "id": "62f6d931-b749-4023-9290-caeaf0ac8d47",
      "cell_type": "code",
      "source": "#This will convert 200 minutes to hours by diving by 60\n200/60",
      "metadata": {
        "trusted": true
      },
      "outputs": [
        {
          "execution_count": 2,
          "output_type": "execute_result",
          "data": {
            "text/plain": "3.3333333333333335"
          },
          "metadata": {}
        }
      ],
      "execution_count": 2
    },
    {
      "id": "d263dfbc-d8ac-4559-a3b9-e4f983eced70",
      "cell_type": "code",
      "source": "",
      "metadata": {
        "trusted": true
      },
      "outputs": [],
      "execution_count": null
    }
  ]
}